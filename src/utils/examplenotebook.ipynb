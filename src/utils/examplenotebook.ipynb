{
 "cells": [
  {
   "cell_type": "code",
   "execution_count": 18,
   "metadata": {},
   "outputs": [
    {
     "name": "stdout",
     "output_type": "stream",
     "text": [
      "                                                     url   \n",
      "20     https://www.immoweb.be/en/classified/new-real-...  \\\n",
      "21     https://www.immoweb.be/en/classified/new-real-...   \n",
      "22     https://www.immoweb.be/en/classified/new-real-...   \n",
      "23     https://www.immoweb.be/en/classified/new-real-...   \n",
      "24     https://www.immoweb.be/en/classified/new-real-...   \n",
      "...                                                  ...   \n",
      "12693  https://www.immoweb.be/en/classified/house/for...   \n",
      "12707  https://www.immoweb.be/en/classified/house/for...   \n",
      "12722  https://www.immoweb.be/en/classified/villa/for...   \n",
      "12850  https://www.immoweb.be/en/classified/villa/for...   \n",
      "12851  https://www.immoweb.be/en/classified/house/for...   \n",
      "\n",
      "              Available as of                Available date   \n",
      "20                At delivery      March 31 2024 - 12:00 AM  \\\n",
      "21                At delivery    October 31 2023 - 12:00 AM   \n",
      "22                At delivery  September 30 2023 - 12:00 AM   \n",
      "23                At delivery         May 1 2025 - 12:00 AM   \n",
      "24                At delivery   February 28 2025 - 12:00 AM   \n",
      "...                       ...                           ...   \n",
      "12693                     NaN                           NaN   \n",
      "12707  After signing the deed                           NaN   \n",
      "12722  After signing the deed                           NaN   \n",
      "12850                     NaN                           NaN   \n",
      "12851                     NaN                           NaN   \n",
      "\n",
      "       Construction year  Floor  Number of floors Building condition   \n",
      "20                   NaN    NaN               NaN                NaN  \\\n",
      "21                   NaN    NaN               NaN                NaN   \n",
      "22                   NaN    NaN               NaN                NaN   \n",
      "23                   NaN    NaN               NaN                NaN   \n",
      "24                   NaN    NaN               NaN                NaN   \n",
      "...                  ...    ...               ...                ...   \n",
      "12693             1979.0    NaN               NaN     Just renovated   \n",
      "12707             1993.0    NaN               NaN               Good   \n",
      "12722             1975.0    NaN               NaN      To be done up   \n",
      "12850             1972.0    NaN               NaN               Good   \n",
      "12851             1972.0    NaN               NaN               Good   \n",
      "\n",
      "      Street frontage width  Number of frontages Surroundings type  ...   \n",
      "20                      NaN                  NaN               NaN  ...  \\\n",
      "21                      NaN                  NaN               NaN  ...   \n",
      "22                      NaN                  NaN               NaN  ...   \n",
      "23                      NaN                  NaN               NaN  ...   \n",
      "24                      NaN                  NaN               NaN  ...   \n",
      "...                     ...                  ...               ...  ...   \n",
      "12693                   NaN                  4.0               NaN  ...   \n",
      "12707                   NaN                  2.0       Countryside  ...   \n",
      "12722                  15 m                  4.0       Countryside  ...   \n",
      "12850                   NaN                  4.0               NaN  ...   \n",
      "12851                   NaN                  4.0               NaN  ...   \n",
      "\n",
      "      Extra information Value of the property Sea view   \n",
      "20                  NaN                   NaN      NaN  \\\n",
      "21                  NaN                   NaN      NaN   \n",
      "22                  NaN                   NaN      NaN   \n",
      "23                  NaN                   NaN      NaN   \n",
      "24                  NaN                   NaN      NaN   \n",
      "...                 ...                   ...      ...   \n",
      "12693               NaN    € 150,000  150000€      NaN   \n",
      "12707               NaN                   NaN      NaN   \n",
      "12722               NaN                   NaN      NaN   \n",
      "12850               NaN    € 585,000  585000€      NaN   \n",
      "12851               NaN    € 585,000  585000€      NaN   \n",
      "\n",
      "      Current monthly revenue  Age of annuitants    Venue of the sale   \n",
      "20                        NaN                NaN                  NaN  \\\n",
      "21                        NaN                NaN                  NaN   \n",
      "22                        NaN                NaN                  NaN   \n",
      "23                        NaN                NaN                  NaN   \n",
      "24                        NaN                NaN                  NaN   \n",
      "...                       ...                ...                  ...   \n",
      "12693                     NaN             89, 86                  NaN   \n",
      "12707                     NaN                NaN  Link to online sale   \n",
      "12722                     NaN                NaN  Link to online sale   \n",
      "12850                     NaN                NaN                  NaN   \n",
      "12851                     NaN                NaN                  NaN   \n",
      "\n",
      "      Single session                                     Terms of visit   \n",
      "20               NaN                                                NaN  \\\n",
      "21               NaN                                                NaN   \n",
      "22               NaN                                                NaN   \n",
      "23               NaN                                                NaN   \n",
      "24               NaN                                                NaN   \n",
      "...              ...                                                ...   \n",
      "12693            NaN                                                NaN   \n",
      "12707             No  nl :  Het goed zal door de kandidaat-kopers ku...   \n",
      "12722             No   fr :  Uniquement sur rendez-vous au 02/366.45.27   \n",
      "12850            NaN                                                NaN   \n",
      "12851            NaN                                                NaN   \n",
      "\n",
      "            Starting price  Percentage rented  \n",
      "20                     NaN                NaN  \n",
      "21                     NaN                NaN  \n",
      "22                     NaN                NaN  \n",
      "23                     NaN                NaN  \n",
      "24                     NaN                NaN  \n",
      "...                    ...                ...  \n",
      "12693                  NaN                NaN  \n",
      "12707  € 178,500  178500 €                NaN  \n",
      "12722  € 275,000  275000 €                NaN  \n",
      "12850                  NaN                NaN  \n",
      "12851                  NaN                NaN  \n",
      "\n",
      "[3960 rows x 122 columns]\n"
     ]
    },
    {
     "name": "stderr",
     "output_type": "stream",
     "text": [
      "C:\\Users\\marco\\AppData\\Local\\Temp\\ipykernel_30744\\180838370.py:4: DtypeWarning: Columns (110) have mixed types. Specify dtype option on import or set low_memory=False.\n",
      "  df = pd.read_csv('../../assets/immoweb_properties_data.csv')\n"
     ]
    }
   ],
   "source": [
    "import re\n",
    "import pandas as pd\n",
    "\n",
    "df = pd.read_csv('../../assets/immoweb_properties_data.csv')\n",
    "\n",
    "\n",
    "mask = df['Price'].isnull()\n",
    "missing = df[mask]\n",
    "\n",
    "print(missing)"
   ]
  },
  {
   "cell_type": "code",
   "execution_count": 25,
   "metadata": {},
   "outputs": [
    {
     "name": "stdout",
     "output_type": "stream",
     "text": [
      "Percentage of missing values in column 'Price': 29.86%\n"
     ]
    }
   ],
   "source": [
    "missing_percentage = df['Price'].isnull().sum() / len(df) * 100\n",
    "\n",
    "print(f\"Percentage of missing values in column 'Price': {missing_percentage:.2f}%\")"
   ]
  }
 ],
 "metadata": {
  "kernelspec": {
   "display_name": "Python 3",
   "language": "python",
   "name": "python3"
  },
  "language_info": {
   "codemirror_mode": {
    "name": "ipython",
    "version": 3
   },
   "file_extension": ".py",
   "mimetype": "text/x-python",
   "name": "python",
   "nbconvert_exporter": "python",
   "pygments_lexer": "ipython3",
   "version": "3.11.3"
  },
  "orig_nbformat": 4
 },
 "nbformat": 4,
 "nbformat_minor": 2
}
