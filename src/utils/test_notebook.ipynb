{
 "cells": [
  {
   "cell_type": "code",
   "execution_count": null,
   "metadata": {},
   "outputs": [],
   "source": [
    "import re\n",
    "import pandas as pd\n",
    "\n",
    "df = pd.read_csv('../../assets/immoweb_test.csv')\n",
    "\n",
    "def extract_missing(df, tag):\n",
    "    new_df = df[df[tag].isna()]\n",
    "    new_df.to_csv(f'../../assets/df_{tag.lower()}_missing.csv')\n",
    "def find_type(url):\n",
    "    try:\n",
    "        return re.match(\"https://www\\.immoweb\\.be/en/classified/(.*)/for-sale/\", url).group(1)\n",
    "    except AttributeError as e:\n",
    "        return re.match(\"https://www\\.immoweb\\.be/en/classified/(.)*/for-sale/\", url)\n",
    "def find_zipcode(url):\n",
    "    re_pattern = '[a-z]\\/([0-9]{4})\\/[0-9]'\n",
    "    try:\n",
    "        return re.match('[a-z]\\/([0-9]{4})\\/[0-9]', url).group(1)\n",
    "    except AttributeError as e:\n",
    "        print(e)\n",
    "        return re.match(re_pattern, url)\n",
    "\n",
    "print(find_type('https://www.immoweb.be/en/classified/apartment-block/for-sale/aalst/9300/8992291'))\n"
   ]
  },
  {
   "cell_type": "code",
   "execution_count": null,
   "metadata": {},
   "outputs": [],
   "source": [
    "import re\n",
    "\n",
    "def find_zipcode(url):\n",
    "    re_pattern = '[a-z]\\/([0-9]{4})\\/[0-9]'\n",
    "    try:\n",
    "        return re.match('[a-z]\\/([0-9]{4})\\/[0-9]', url).group(1)\n",
    "    except AttributeError as e:\n",
    "        print(e)\n",
    "        return re.match(re_pattern, url)\n",
    "\n",
    "print(find_zipcode('https://www.immoweb.be/en/classified/apartment-block/for-sale/aalst/9300/8992291'))\n"
   ]
  },
  {
   "cell_type": "code",
   "execution_count": null,
   "metadata": {},
   "outputs": [],
   "source": [
    "df_copy = df\n",
    "df_copy['url'] = df_copy['url'].apply(find_type)\n",
    "df_copy.rename(columns ={'url': 'main_type'})\n"
   ]
  },
  {
   "cell_type": "code",
   "execution_count": null,
   "metadata": {},
   "outputs": [],
   "source": [
    "df['building_type'] = df['url'].agg()"
   ]
  },
  {
   "cell_type": "code",
   "execution_count": null,
   "metadata": {},
   "outputs": [],
   "source": [
    "df['Price'].isna().sum()\n",
    "\n",
    "df_price_cleared = df.dropna(subset=['Price'])"
   ]
  },
  {
   "cell_type": "code",
   "execution_count": null,
   "metadata": {},
   "outputs": [],
   "source": [
    "\n",
    "df_price_missing = df[df['Price'].isna()]\n",
    "df_price_missing.to_csv('../../assets/df_price_missing.csv')"
   ]
  },
  {
   "cell_type": "code",
   "execution_count": null,
   "metadata": {},
   "outputs": [],
   "source": [
    "extract_missing(df, 'Price')"
   ]
  },
  {
   "cell_type": "code",
   "execution_count": null,
   "metadata": {},
   "outputs": [],
   "source": [
    "extract_missing(df, 'Address')"
   ]
  }
 ],
 "metadata": {
  "kernelspec": {
   "display_name": "venv",
   "language": "python",
   "name": "python3"
  },
  "language_info": {
   "codemirror_mode": {
    "name": "ipython",
    "version": 3
   },
   "file_extension": ".py",
   "mimetype": "text/x-python",
   "name": "python",
   "nbconvert_exporter": "python",
   "pygments_lexer": "ipython3",
   "version": "3.9.12"
  },
  "orig_nbformat": 4
 },
 "nbformat": 4,
 "nbformat_minor": 2
}
